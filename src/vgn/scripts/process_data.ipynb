{
 "cells": [
  {
   "cell_type": "code",
   "execution_count": null,
   "metadata": {},
   "outputs": [],
   "source": [
    "import numpy as np\n",
    "from pathlib import Path\n",
    "import pandas as pd\n",
    "from tqdm import tqdm"
   ]
  },
  {
   "cell_type": "code",
   "execution_count": null,
   "metadata": {},
   "outputs": [],
   "source": [
    "# Read data\n",
    "root = Path(\"../data/grasps/blocks\")\n",
    "df = pd.read_csv(root / \"grasps.csv\")"
   ]
  },
  {
   "cell_type": "code",
   "execution_count": null,
   "metadata": {},
   "outputs": [],
   "source": [
    "# Inspect data\n",
    "pos = df[df.score == 1]\n",
    "neg = df[df.score == 0]\n",
    "\n",
    "print(\"number of scenes:\", len(np.unique(df.scene_id)))\n",
    "print(\"Number of grasps:\", len(df.index))\n",
    "print(\"Number of positives:\", len(pos.index))\n",
    "print(\"Number of negatives:\", len(neg.index))"
   ]
  },
  {
   "cell_type": "code",
   "execution_count": null,
   "metadata": {},
   "outputs": [],
   "source": [
    "# Remove grasp positions that lie outside the workspace\n",
    "df.drop(\n",
    "    df[\n",
    "        (df.x < 0.04)\n",
    "        | (df.x > 0.26)\n",
    "        | (df.y < 0.04)\n",
    "        | (df.y > 0.26)\n",
    "        | (df.z < 0.04)\n",
    "        | (df.z > 0.26)\n",
    "    ].index,\n",
    "    inplace=True,\n",
    ")"
   ]
  },
  {
   "cell_type": "code",
   "execution_count": null,
   "metadata": {},
   "outputs": [],
   "source": [
    "# Balance data (per scene)\n",
    "indices = []\n",
    "for scene_id, group in tqdm(df.groupby(\"scene_id\"), total=len(df.scene_id.unique())):\n",
    "    pos = group[group.score == 1]\n",
    "    neg = group[group.score == 0]\n",
    "    indices += np.random.choice(neg.index, max(0, len(neg.index) - len(pos.index)), replace=False).tolist()\n",
    "df = df.drop(indices)"
   ]
  },
  {
   "cell_type": "code",
   "execution_count": null,
   "metadata": {},
   "outputs": [],
   "source": [
    "# Delete unreferenced scenes\n",
    "scenes = df.scene_id.unique()\n",
    "for f in root.iterdir():\n",
    "    if f.suffix == \".npz\" and f.stem not in scenes:\n",
    "        print(\"Removed\", f)\n",
    "        f.unlink()"
   ]
  },
  {
   "cell_type": "code",
   "execution_count": null,
   "metadata": {},
   "outputs": [],
   "source": [
    "# Write data\n",
    "df.to_csv(root / \"grasps.csv\", index=False)"
   ]
  },
  {
   "cell_type": "code",
   "execution_count": null,
   "metadata": {},
   "outputs": [],
   "source": [
    "# Merge multiple folders containing grasps\n",
    "target_foler = \"../data/grasps/train\"\n",
    "source_folders = [\"../data/grasps/packed\", \"../data/grasps/pile\"]\n",
    "df = pd.concat([pd.read_csv(root + \"/grasps.csv\") for root in source_folders])\n",
    "df.to_csv(target_foler + \"/grasps.csv\", index=False)"
   ]
  },
  {
   "cell_type": "code",
   "execution_count": null,
   "metadata": {},
   "outputs": [],
   "source": []
  }
 ],
 "metadata": {
  "interpreter": {
   "hash": "d7b4fde0f926a3b721de8f7c96fae1355e02b1b95bd4bddfa62446411daaa37f"
  },
  "kernelspec": {
   "display_name": "Python 3.9.9 64-bit ('vgn': venv)",
   "language": "python",
   "name": "python3"
  },
  "language_info": {
   "codemirror_mode": {
    "name": "ipython",
    "version": 3
   },
   "file_extension": ".py",
   "mimetype": "text/x-python",
   "name": "python",
   "nbconvert_exporter": "python",
   "pygments_lexer": "ipython3",
   "version": "3.8.10"
  },
  "orig_nbformat": 4
 },
 "nbformat": 4,
 "nbformat_minor": 2
}
